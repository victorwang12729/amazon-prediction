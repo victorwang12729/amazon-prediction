{
 "cells": [
  {
   "cell_type": "markdown",
   "metadata": {},
   "source": [
    "## Step 1: Data Analysis"
   ]
  },
  {
   "cell_type": "markdown",
   "metadata": {},
   "source": [
    "This part we can generate some graphs or plots to show the distribution of dataset"
   ]
  },
  {
   "cell_type": "markdown",
   "metadata": {},
   "source": [
    "## Step 2: Preprocess Data"
   ]
  },
  {
   "cell_type": "code",
   "execution_count": 23,
   "metadata": {},
   "outputs": [],
   "source": [
    "import numpy as np \n",
    "import pandas as pd\n",
    "import matplotlib.pyplot as plt\n",
    "import re\n",
    "from nltk.corpus import stopwords\n",
    "from nltk.tokenize import word_tokenize\n",
    "import nltk\n",
    "from sklearn.feature_extraction.text import TfidfVectorizer\n",
    "from sklearn.model_selection import train_test_split\n",
    "from sklearn.ensemble import RandomForestClassifier\n",
    "from sklearn.metrics import accuracy_score"
   ]
  },
  {
   "cell_type": "code",
   "execution_count": 2,
   "metadata": {},
   "outputs": [],
   "source": [
    "# nltk.download('punkt_tab')\n",
    "# nltk.download('stopwords')\n",
    "stop_words = set(stopwords.words('english'))"
   ]
  },
  {
   "cell_type": "code",
   "execution_count": 3,
   "metadata": {},
   "outputs": [],
   "source": [
    "\n",
    "def clean_data(folder='data',files = ['Automotive_5.json','CDs_and_Vinyl_5.json','Cell_Phones_and_Accessories_5.json','Grocery_and_Gourmet_Food_5.json','Toys_and_Games_5.json']):\n",
    "    \n",
    "    review_files = {}\n",
    "    \n",
    "    for file_name in files:\n",
    "        name = file_name.split('_')[0]\n",
    "        row  = pd.read_json(folder+'/'+file_name,lines=True)\n",
    "        # Delete all columns except 'Ooverall', 'reviewText', 'summary'\n",
    "        row = row.drop(columns=['verified','reviewTime','reviewerID','asin','reviewerName','unixReviewTime','vote','image','style'])\n",
    "        print(f\"For category {name}\")\n",
    "        print(row.isnull().sum())\n",
    "        print(f\"Dataset before dropping: {len(row)}\")\n",
    "        # Delet all null rows\n",
    "        row = row.dropna()\n",
    "        print(f\"Dataset after dropping: {len(row)}\")\n",
    "        row['reviewText'] = row['reviewText']\n",
    "        review_files[name] = row\n",
    "    \n",
    "    return review_files"
   ]
  },
  {
   "cell_type": "code",
   "execution_count": 4,
   "metadata": {},
   "outputs": [
    {
     "name": "stdout",
     "output_type": "stream",
     "text": [
      "For category Automotive\n",
      "overall         0\n",
      "reviewText    866\n",
      "summary       342\n",
      "dtype: int64\n",
      "Dataset before dropping: 1711519\n",
      "Dataset after dropping: 1710350\n",
      "For category CDs\n",
      "reviewText    280\n",
      "overall         0\n",
      "summary       227\n",
      "dtype: int64\n",
      "Dataset before dropping: 1443755\n",
      "Dataset after dropping: 1443288\n",
      "For category Cell\n",
      "overall         0\n",
      "reviewText    765\n",
      "summary       517\n",
      "dtype: int64\n",
      "Dataset before dropping: 1128437\n",
      "Dataset after dropping: 1127206\n",
      "For category Grocery\n",
      "overall         0\n",
      "reviewText    390\n",
      "summary       219\n",
      "dtype: int64\n",
      "Dataset before dropping: 1143860\n",
      "Dataset after dropping: 1143292\n",
      "For category Toys\n",
      "overall          0\n",
      "reviewText    1175\n",
      "summary        372\n",
      "dtype: int64\n",
      "Dataset before dropping: 1828971\n",
      "Dataset after dropping: 1827456\n"
     ]
    }
   ],
   "source": [
    "df_collect = clean_data()"
   ]
  },
  {
   "cell_type": "code",
   "execution_count": null,
   "metadata": {},
   "outputs": [],
   "source": [
    "\"\"\"\"\n",
    "def read_file(filepath):\n",
    "    seg_docs = {}\n",
    "    \n",
    "    with open(filepath, 'r') as file:\n",
    "        file_dict = json.load(file)\n",
    "    \n",
    "    seg_docs = {}\n",
    "    \n",
    "    for key, text in file_dict.items():\n",
    "        \n",
    "        text = text.lower()\n",
    "        text = re.sub(r'[^a-zA-Z\\s]', '', text)\n",
    "        words = word_tokenize(text)\n",
    "        words_list = []\n",
    "        for word in words:\n",
    "            if word not in stop_words:\n",
    "                words_list.append(word)\n",
    "        \n",
    "        seg_docs[key] = words_list\n",
    "    \n",
    "    return seg_docs\n",
    "    \"\"\""
   ]
  },
  {
   "cell_type": "code",
   "execution_count": null,
   "metadata": {},
   "outputs": [],
   "source": [
    "\"\"\"\n",
    "def strip_clean(reviews_dict):\n",
    "    \n",
    "    def process_entry(sentence):\n",
    "        sentence = sentence.lower()\n",
    "        sentence = re.sub(r'[^a-zA-Z\\s]', '', sentence)\n",
    "        words_list = []\n",
    "        for word in sentence:\n",
    "            if word not in stop_words():\n",
    "                words_list.append(word)\n",
    "        return words_list\n",
    "    \n",
    "    stripped_dict = {}\n",
    "    \n",
    "    for key,df in reviews_dict.items():\n",
    "        df['reviewText'] = df['reviewText'].apply(process_entry)\n",
    "        df['summary'] = df['summary'].apply(process_entry)\n",
    "        stripped_dict[key] = df\n",
    "    \n",
    "    return stripped_dict\n",
    "    \"\"\""
   ]
  },
  {
   "cell_type": "code",
   "execution_count": null,
   "metadata": {},
   "outputs": [],
   "source": [
    "# df_reduced_list = strip_clean(df_collect)"
   ]
  },
  {
   "cell_type": "code",
   "execution_count": 5,
   "metadata": {},
   "outputs": [
    {
     "name": "stdout",
     "output_type": "stream",
     "text": [
      "dict_keys(['Automotive', 'CDs', 'Cell', 'Grocery', 'Toys'])\n"
     ]
    }
   ],
   "source": [
    "print(df_collect.keys())"
   ]
  },
  {
   "cell_type": "code",
   "execution_count": null,
   "metadata": {},
   "outputs": [
    {
     "data": {
      "text/html": [
       "<div>\n",
       "<style scoped>\n",
       "    .dataframe tbody tr th:only-of-type {\n",
       "        vertical-align: middle;\n",
       "    }\n",
       "\n",
       "    .dataframe tbody tr th {\n",
       "        vertical-align: top;\n",
       "    }\n",
       "\n",
       "    .dataframe thead th {\n",
       "        text-align: right;\n",
       "    }\n",
       "</style>\n",
       "<table border=\"1\" class=\"dataframe\">\n",
       "  <thead>\n",
       "    <tr style=\"text-align: right;\">\n",
       "      <th></th>\n",
       "      <th>overall</th>\n",
       "      <th>reviewText</th>\n",
       "      <th>summary</th>\n",
       "    </tr>\n",
       "  </thead>\n",
       "  <tbody>\n",
       "    <tr>\n",
       "      <th>0</th>\n",
       "      <td>4</td>\n",
       "      <td>after i wrote the below review, the manufactur...</td>\n",
       "      <td>works well if you place phone in horizontally ...</td>\n",
       "    </tr>\n",
       "    <tr>\n",
       "      <th>1</th>\n",
       "      <td>1</td>\n",
       "      <td>it sucks barely picks up anything definitely n...</td>\n",
       "      <td>sucks</td>\n",
       "    </tr>\n",
       "    <tr>\n",
       "      <th>2</th>\n",
       "      <td>1</td>\n",
       "      <td>well to write a short one, it blew 2 fuses of ...</td>\n",
       "      <td>defective</td>\n",
       "    </tr>\n",
       "    <tr>\n",
       "      <th>3</th>\n",
       "      <td>3</td>\n",
       "      <td>i have absolutely no memory of buying this but...</td>\n",
       "      <td>looks cool! probably works</td>\n",
       "    </tr>\n",
       "    <tr>\n",
       "      <th>4</th>\n",
       "      <td>5</td>\n",
       "      <td>it ok it does it job</td>\n",
       "      <td>five stars</td>\n",
       "    </tr>\n",
       "    <tr>\n",
       "      <th>...</th>\n",
       "      <td>...</td>\n",
       "      <td>...</td>\n",
       "      <td>...</td>\n",
       "    </tr>\n",
       "    <tr>\n",
       "      <th>1711514</th>\n",
       "      <td>5</td>\n",
       "      <td>fast shipping, works great!</td>\n",
       "      <td>works great!</td>\n",
       "    </tr>\n",
       "    <tr>\n",
       "      <th>1711515</th>\n",
       "      <td>4</td>\n",
       "      <td>fit isn't great, relays are very hard to press...</td>\n",
       "      <td>four stars</td>\n",
       "    </tr>\n",
       "    <tr>\n",
       "      <th>1711516</th>\n",
       "      <td>5</td>\n",
       "      <td>i bought an auxiliary horn for my car and it n...</td>\n",
       "      <td>i bought an auxiliary horn for my car and it ...</td>\n",
       "    </tr>\n",
       "    <tr>\n",
       "      <th>1711517</th>\n",
       "      <td>5</td>\n",
       "      <td>way better than stock. nice bright and white. ...</td>\n",
       "      <td>nice, bright and white</td>\n",
       "    </tr>\n",
       "    <tr>\n",
       "      <th>1711518</th>\n",
       "      <td>5</td>\n",
       "      <td>great product fast shipping and awesome commun...</td>\n",
       "      <td>five stars</td>\n",
       "    </tr>\n",
       "  </tbody>\n",
       "</table>\n",
       "<p>1710350 rows × 3 columns</p>\n",
       "</div>"
      ],
      "text/plain": [
       "         overall                                         reviewText  \\\n",
       "0              4  after i wrote the below review, the manufactur...   \n",
       "1              1  it sucks barely picks up anything definitely n...   \n",
       "2              1  well to write a short one, it blew 2 fuses of ...   \n",
       "3              3  i have absolutely no memory of buying this but...   \n",
       "4              5                               it ok it does it job   \n",
       "...          ...                                                ...   \n",
       "1711514        5                        fast shipping, works great!   \n",
       "1711515        4  fit isn't great, relays are very hard to press...   \n",
       "1711516        5  i bought an auxiliary horn for my car and it n...   \n",
       "1711517        5  way better than stock. nice bright and white. ...   \n",
       "1711518        5  great product fast shipping and awesome commun...   \n",
       "\n",
       "                                                   summary  \n",
       "0        works well if you place phone in horizontally ...  \n",
       "1                                                    sucks  \n",
       "2                                                defective  \n",
       "3                               looks cool! probably works  \n",
       "4                                               five stars  \n",
       "...                                                    ...  \n",
       "1711514                                       works great!  \n",
       "1711515                                         four stars  \n",
       "1711516   i bought an auxiliary horn for my car and it ...  \n",
       "1711517                             nice, bright and white  \n",
       "1711518                                         five stars  \n",
       "\n",
       "[1710350 rows x 3 columns]"
      ]
     },
     "execution_count": 33,
     "metadata": {},
     "output_type": "execute_result"
    }
   ],
   "source": [
    "df_reduced_list['Automotive']"
   ]
  },
  {
   "cell_type": "code",
   "execution_count": null,
   "metadata": {},
   "outputs": [],
   "source": [
    "# Do we need to set stopwords or lowercase here?\n",
    "def preprocess_text(text):\n",
    "    stop_words = set(stop_words('english'))\n",
    "    text = text.lower()\n",
    "    text = re.sub(f\"[{re.escape(string.punctuation)}]\", \" \", text)\n",
    "    tokens = text.split()\n",
    "    "
   ]
  },
  {
   "cell_type": "code",
   "execution_count": 6,
   "metadata": {},
   "outputs": [],
   "source": [
    "def create_category_dataframes(df_collect):\n",
    "    # For each category, create a dataframe\n",
    "    for category, data in df_collect.items():\n",
    "       globals()[f\"df_{category}\"] = pd.DataFrame(data)\n"
   ]
  },
  {
   "cell_type": "code",
   "execution_count": 7,
   "metadata": {},
   "outputs": [
    {
     "data": {
      "text/html": [
       "<div>\n",
       "<style scoped>\n",
       "    .dataframe tbody tr th:only-of-type {\n",
       "        vertical-align: middle;\n",
       "    }\n",
       "\n",
       "    .dataframe tbody tr th {\n",
       "        vertical-align: top;\n",
       "    }\n",
       "\n",
       "    .dataframe thead th {\n",
       "        text-align: right;\n",
       "    }\n",
       "</style>\n",
       "<table border=\"1\" class=\"dataframe\">\n",
       "  <thead>\n",
       "    <tr style=\"text-align: right;\">\n",
       "      <th></th>\n",
       "      <th>reviewText</th>\n",
       "      <th>overall</th>\n",
       "      <th>summary</th>\n",
       "    </tr>\n",
       "  </thead>\n",
       "  <tbody>\n",
       "    <tr>\n",
       "      <th>0</th>\n",
       "      <td>Love it!!  Great seller!</td>\n",
       "      <td>5</td>\n",
       "      <td>Five Stars</td>\n",
       "    </tr>\n",
       "    <tr>\n",
       "      <th>1</th>\n",
       "      <td>One of my very favourite albums from one of my...</td>\n",
       "      <td>5</td>\n",
       "      <td>One of my very favourite albums from one of my...</td>\n",
       "    </tr>\n",
       "    <tr>\n",
       "      <th>2</th>\n",
       "      <td>THank you Jesus Lord God, that brother Green's...</td>\n",
       "      <td>5</td>\n",
       "      <td>Five Stars</td>\n",
       "    </tr>\n",
       "    <tr>\n",
       "      <th>3</th>\n",
       "      <td>I recall loving his other albums and maybe thi...</td>\n",
       "      <td>5</td>\n",
       "      <td>forgot but I figured on some of these artists ...</td>\n",
       "    </tr>\n",
       "    <tr>\n",
       "      <th>4</th>\n",
       "      <td>Keith Green was a pioneer in the field of Chri...</td>\n",
       "      <td>5</td>\n",
       "      <td>and I have loved every album he did</td>\n",
       "    </tr>\n",
       "  </tbody>\n",
       "</table>\n",
       "</div>"
      ],
      "text/plain": [
       "                                          reviewText  overall  \\\n",
       "0                           Love it!!  Great seller!        5   \n",
       "1  One of my very favourite albums from one of my...        5   \n",
       "2  THank you Jesus Lord God, that brother Green's...        5   \n",
       "3  I recall loving his other albums and maybe thi...        5   \n",
       "4  Keith Green was a pioneer in the field of Chri...        5   \n",
       "\n",
       "                                             summary  \n",
       "0                                         Five Stars  \n",
       "1  One of my very favourite albums from one of my...  \n",
       "2                                         Five Stars  \n",
       "3  forgot but I figured on some of these artists ...  \n",
       "4                and I have loved every album he did  "
      ]
     },
     "execution_count": 7,
     "metadata": {},
     "output_type": "execute_result"
    }
   ],
   "source": [
    "# For each category, create a dataframe\n",
    "create_category_dataframes(df_collect)\n",
    "\n",
    "df_CDs.head()"
   ]
  },
  {
   "cell_type": "markdown",
   "metadata": {},
   "source": [
    "After preprocessing, we need some statistical analysis for data "
   ]
  },
  {
   "cell_type": "code",
   "execution_count": 21,
   "metadata": {},
   "outputs": [
    {
     "name": "stdout",
     "output_type": "stream",
     "text": [
      "overall\n",
      "5    968360\n",
      "4    274693\n",
      "3    110391\n",
      "2     46358\n",
      "1     43486\n",
      "Name: count, dtype: int64\n"
     ]
    },
    {
     "data": {
      "image/png": "[encoded data removed]",
      "text/plain": [
       "<Figure size 600x400 with 1 Axes>"
      ]
     },
     "metadata": {},
     "output_type": "display_data"
    }
   ],
   "source": [
    "counts = df_CDs['overall'].value_counts()\n",
    "print(counts)\n",
    "\n",
    "plt.figure(figsize=(6, 4))\n",
    "counts.plot(kind='bar')\n",
    "plt.title('Counts of 1 to 5 in Overall Ratings')\n",
    "plt.xlabel('Rating')\n",
    "plt.ylabel('Count')\n",
    "plt.xticks(rotation=0)\n",
    "plt.show()"
   ]
  },
  {
   "cell_type": "markdown",
   "metadata": {},
   "source": [
    "## Step 3: Vectorization"
   ]
  },
  {
   "cell_type": "code",
   "execution_count": 11,
   "metadata": {},
   "outputs": [],
   "source": [
    "def transform_text_into_tfidf_vector(df, summary = False):\n",
    "    X = None\n",
    "    y = None\n",
    "    vectorizer = None\n",
    "\n",
    "    # Identify y\n",
    "    y = df['overall'].values\n",
    "\n",
    "    # Select column for vectorization\n",
    "    if summary:\n",
    "        text_column = 'summary'\n",
    "    else:\n",
    "        text_column = 'reviewText'\n",
    "\n",
    "    texts = df[text_column]\n",
    "\n",
    "    # Set parameter for vectorizer\n",
    "    vectorizer = TfidfVectorizer(max_features=10000, stop_words = 'english')\n",
    "\n",
    "    X = vectorizer.fit_transform(texts)\n",
    "\n",
    "    return X, y, vectorizer"
   ]
  },
  {
   "cell_type": "code",
   "execution_count": 13,
   "metadata": {},
   "outputs": [
    {
     "name": "stdout",
     "output_type": "stream",
     "text": [
      "  (0, 5379)\t0.3465869513476443\n",
      "  (0, 4016)\t0.2917767413134023\n",
      "  (0, 7888)\t0.8914840539146383\n",
      "  (1, 3430)\t0.5833081557555778\n",
      "  (1, 430)\t0.1505879479717377\n",
      "  (1, 8123)\t0.24838376170127396\n",
      "  (1, 4150)\t0.23057327664186195\n",
      "  (1, 7363)\t0.33771970481217106\n",
      "  (1, 6226)\t0.18254048705285422\n",
      "  (1, 9908)\t0.34715233438322407\n",
      "  (1, 1480)\t0.4203730621270011\n",
      "  (1, 9957)\t0.15964743849167642\n",
      "  (1, 389)\t0.22830932678676846\n",
      "  (2, 8991)\t0.3224535425386348\n",
      "  (2, 4841)\t0.39639286430299425\n",
      "  (2, 5351)\t0.4042489313847334\n",
      "  (2, 3937)\t0.30791493000555037\n",
      "  (2, 1275)\t0.38032973453896507\n",
      "  (2, 4025)\t0.373770311992832\n",
      "  (2, 5954)\t0.14144795336897448\n",
      "  (2, 8338)\t0.2967377746365364\n",
      "  (2, 4351)\t0.2970720853222618\n",
      "  (3, 430)\t0.22111395275888115\n",
      "  (3, 5954)\t0.0802114369141391\n",
      "  (3, 7178)\t0.4825528841196097\n",
      "  :\t:\n",
      "  (1443283, 1147)\t0.20217417439912813\n",
      "  (1443283, 2331)\t0.22973900766031322\n",
      "  (1443284, 6222)\t1.0\n",
      "  (1443285, 5379)\t0.25687859544167635\n",
      "  (1443285, 4016)\t0.43251022117076926\n",
      "  (1443285, 5954)\t0.4450384094192425\n",
      "  (1443285, 8335)\t0.28068806877394686\n",
      "  (1443285, 4328)\t0.40442934659103447\n",
      "  (1443285, 5364)\t0.5536607459376325\n",
      "  (1443286, 3954)\t0.29243021060028745\n",
      "  (1443286, 3755)\t0.5360704780486889\n",
      "  (1443286, 7018)\t0.48736870952946143\n",
      "  (1443286, 7162)\t0.3504224047573266\n",
      "  (1443286, 8649)\t0.5165161117609028\n",
      "  (1443287, 5379)\t0.20143198380406188\n",
      "  (1443287, 4016)\t0.1695769780198411\n",
      "  (1443287, 430)\t0.24050154316587388\n",
      "  (1443287, 1514)\t0.18036495741941255\n",
      "  (1443287, 8335)\t0.22010224100631318\n",
      "  (1443287, 9092)\t0.21120251949320346\n",
      "  (1443287, 1388)\t0.32339790331786233\n",
      "  (1443287, 6329)\t0.4069971331286052\n",
      "  (1443287, 4071)\t0.4008457598398482\n",
      "  (1443287, 6284)\t0.4116119793401134\n",
      "  (1443287, 5395)\t0.3832886361437066\n"
     ]
    }
   ],
   "source": [
    "# Take CD category as an example\n",
    "X_CDs, y_CDs, vectorizer = transform_text_into_tfidf_vector(df_CDs, summary = False)\n",
    "print(X_CDs)"
   ]
  },
  {
   "cell_type": "code",
   "execution_count": 14,
   "metadata": {},
   "outputs": [],
   "source": [
    "# Split train and test set\n",
    "def training_testing_split(X, y, test_size = 0.2):\n",
    "    X_train, X_test, y_train, y_test = train_test_split(X, y, test_size = test_size, random_state = 42)\n",
    "\n",
    "    return (X_train, X_test, y_train, y_test)"
   ]
  },
  {
   "cell_type": "code",
   "execution_count": null,
   "metadata": {},
   "outputs": [],
   "source": [
    "X_train_CDs, X_test_CDs, y_train_CDs, y_test_CDs = training_testing_split(X_CDs, y_CDs, test_size = 0.8)"
   ]
  },
  {
   "cell_type": "markdown",
   "metadata": {},
   "source": [
    "## Step 4: Models Training"
   ]
  },
  {
   "cell_type": "code",
   "execution_count": 24,
   "metadata": {},
   "outputs": [],
   "source": [
    "classifier1 = RandomForestClassifier(class_weight='balanced')\n",
    "\n",
    "classifier1.fit(X_train_CDs, y_train_CDs)\n",
    "y_pred_CDs = classifier1.predict(X_test_CDs)\n",
    "\n",
    "accuracy1 = accuracy_score(y_test_CDs, y_pred_CDs)"
   ]
  },
  {
   "cell_type": "code",
   "execution_count": 25,
   "metadata": {},
   "outputs": [
    {
     "data": {
      "text/plain": [
       "0.6781188102519333"
      ]
     },
     "execution_count": 25,
     "metadata": {},
     "output_type": "execute_result"
    }
   ],
   "source": [
    "accuracy1"
   ]
  }
 ],
 "metadata": {
  "kernelspec": {
   "display_name": "base",
   "language": "python",
   "name": "python3"
  },
  "language_info": {
   "codemirror_mode": {
    "name": "ipython",
    "version": 3
   },
   "file_extension": ".py",
   "mimetype": "text/x-python",
   "name": "python",
   "nbconvert_exporter": "python",
   "pygments_lexer": "ipython3",
   "version": "3.12.4"
  }
 },
 "nbformat": 4,
 "nbformat_minor": 2
}
